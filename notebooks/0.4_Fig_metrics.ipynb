{
 "cells": [
  {
   "cell_type": "code",
   "execution_count": 1,
   "metadata": {},
   "outputs": [],
   "source": [
    "%load_ext autoreload\n",
    "%autoreload 2"
   ]
  },
  {
   "cell_type": "code",
   "execution_count": 2,
   "metadata": {},
   "outputs": [],
   "source": [
    "import sys\n",
    "\n",
    "sys.path.append(\"..\")\n",
    "\n",
    "import pandas as pd\n",
    "from tqdm.auto import tqdm\n",
    "import matplotlib.pyplot as plt\n",
    "import numpy as np\n",
    "\n",
    "from multiprocessing import Pool\n",
    "import traceback\n",
    "from functional import seq\n",
    "\n",
    "from agg_utils.path_conf import figure_root_dir"
   ]
  },
  {
   "cell_type": "code",
   "execution_count": 3,
   "metadata": {},
   "outputs": [
    {
     "data": {
      "application/vnd.jupyter.widget-view+json": {
       "model_id": "ac07ab989b38409ba03b2153e6231bcc",
       "version_major": 2,
       "version_minor": 0
      },
      "text/plain": [
       "  0%|          | 0/18 [00:00<?, ?it/s]"
      ]
     },
     "metadata": {},
     "output_type": "display_data"
    }
   ],
   "source": [
    "ref_dict = {\n",
    "    str(p): (255 - 255 * plt.imread(p)).astype(np.float32)\n",
    "    for p in tqdm(list((figure_root_dir / \"plotly_preselect\").glob(\"reference_*.png\")))\n",
    "}\n",
    "\n",
    "files = seq((figure_root_dir / \"plotly_preselect\").glob(\"*.png\")).filter(lambda x: 'reference' not in x.name).to_list()"
   ]
  },
  {
   "cell_type": "code",
   "execution_count": 10,
   "metadata": {},
   "outputs": [],
   "source": [
    "from __future__ import annotations\n",
    "from pathlib import Path\n",
    "from agg_utils.metrics import get_png_path, _get_mse_series, _get_dssim_series, _get_or_conv_mask\n",
    "\n",
    "def compute_dssim_plotly(\n",
    "    agg_path: str | Path, ref_dict, mse: bool, **ssim_kwargs\n",
    ") -> pd.Series:\n",
    "    \"\"\"Compute the DSSIM, MSE, and MAE for a Plotly figure.\n",
    "\n",
    "    More specifically, this function computes the DSSIM for a reference figure with\n",
    "    a line width of 1 and the same line width as the original figure.\n",
    "\n",
    "    .. NOTE::\n",
    "        This method can also be used for the `Bokeh` toolit\n",
    "\n",
    "    parameters\n",
    "    ----------\n",
    "    idx_r : pd.Series\n",
    "        a row of the aggregation dataframe\n",
    "    ref_dict : dict\n",
    "        a dictionary of reference images, with the path as key and the image as value\n",
    "    ssim_kwargs : dict\n",
    "        keyword arguments for the skimage.metrics.structural_similarity function\n",
    "\n",
    "    returns\n",
    "    -------\n",
    "    pd.Series\n",
    "        a row of the aggregation dataframe with the MSSIM and DSSIM values added\n",
    "        More specifically, this function adds the following columns:\n",
    "        - DSSIM_same_lw\n",
    "        - DSSIM_masked_same_lw\n",
    "        - SSIM_same_lw\n",
    "        - SSIM_masked_same_lw\n",
    "\n",
    "    \"\"\"\n",
    "    agg_path: Path = Path(agg_path)\n",
    "    toolkit: str = agg_path.parent.name\n",
    "    splits = (agg_path.name).split(\".\")[0].split(\"_\")\n",
    "    aggregator, data, n, n_out = splits[:4]\n",
    "    ls, lw = splits[-2:]\n",
    "    factor = None\n",
    "    if len(splits) == 7:\n",
    "        factor = splits[-3]\n",
    "        factor = int(factor[7:])\n",
    "\n",
    "    ls = ls[3:]\n",
    "    lw = lw[3:]\n",
    "\n",
    "    # fmt: off\n",
    "    reference_path_lw_same = get_png_path(toolkit, data, n, n_out, \"reference\", lw, ls)\n",
    "\n",
    "    dim = 1\n",
    "    win_size = 11\n",
    "\n",
    "    # read the images\n",
    "    agg = (255 - 255 * plt.imread(agg_path)).astype(np.float32)\n",
    "    ref_same_lw = ref_dict.get(str(reference_path_lw_same), None)\n",
    "\n",
    "    # fmt: off\n",
    "    or_conv_same_lw = _get_or_conv_mask(agg[:, :, dim], ref_same_lw[:, :, dim], win_size)\n",
    "    mse_list = (\n",
    "        [\n",
    "            _get_mse_series(agg, ref_same_lw, dim, or_conv_same_lw).add_suffix(\"_same_lw\"),\n",
    "        ]\n",
    "        if mse\n",
    "        else []\n",
    "    )\n",
    "\n",
    "    ssim_dict_g = dict(ssim_kwargs)\n",
    "    ssim_dict_g[\"gaussian_weights\"] = True\n",
    "\n",
    "    ssim_dict_no_g = dict(ssim_kwargs)\n",
    "    ssim_dict_no_g[\"gaussian_weights\"] = False\n",
    "\n",
    "    # fmt: off\n",
    "    return pd.concat(\n",
    "        [\n",
    "            pd.Series(\n",
    "                index=[\"toolkit\", \"data\", \"aggregator\", \"n\", \"n_out\", \"ls\", \"lw\", \"factor\"],\n",
    "                data=[toolkit, data, aggregator, n, n_out, ls, lw, factor],\n",
    "            ),\n",
    "            _get_dssim_series( agg, ref_same_lw, dim, or_conv_same_lw, **ssim_dict_no_g).add_suffix(\"_same_lw\"),\n",
    "            _get_dssim_series( agg, ref_same_lw, dim, or_conv_same_lw, **ssim_dict_g).add_suffix(\"_gaussian_same_lw\"),\n",
    "            *mse_list,\n",
    "        ],\n",
    "    )"
   ]
  },
  {
   "cell_type": "code",
   "execution_count": 11,
   "metadata": {},
   "outputs": [
    {
     "data": {
      "application/vnd.jupyter.widget-view+json": {
       "model_id": "c3b34553ea6b41caa4bd2bf789a907c9",
       "version_major": 2,
       "version_minor": 0
      },
      "text/plain": [
       "  0%|          | 0/44694 [00:00<?, ?it/s]"
      ]
     },
     "metadata": {},
     "output_type": "display_data"
    }
   ],
   "source": [
    "def wrap_compute_dssim_plotly(agg_path):\n",
    "    return compute_dssim_plotly(agg_path, mse=True, ref_dict=ref_dict)\n",
    "\n",
    "out = []\n",
    "with Pool(processes=8) as pool:\n",
    "    results = pool.imap_unordered(wrap_compute_dssim_plotly, files[:])\n",
    "    results = tqdm(results, total=len(files[:]))\n",
    "    try:\n",
    "        out = [f for f in results]\n",
    "        del results\n",
    "    except:\n",
    "        traceback.print_exc()\n",
    "        pool.terminate()\n",
    "    finally:\n",
    "        pool.close()\n",
    "        pool.join()\n",
    "\n",
    "\n",
    "df_out = pd.concat(out, axis=1).T\n",
    "# df_out.to_csv(\"../loc_data/plotly_metrics_v4.csv\", index=False)\n",
    "\n",
    "cat_cols = ['toolkit', 'data', 'aggregator', 'ls']\n",
    "int_cols = ['n', 'lw', 'n_out']\n",
    "for c in cat_cols:\n",
    "    df_out[c] = df_out[c].astype('category')\n",
    "for c in int_cols:\n",
    "    df_out[c] = df_out[c].astype('int')\n",
    "\n",
    "\n",
    "for c in set(df_out.columns).difference(cat_cols + int_cols):\n",
    "    df_out[c] = df_out[c].astype('float')\n",
    "df_out.to_parquet(\"../loc_data/plotly_metrics_preselect.parquet\")"
   ]
  }
 ],
 "metadata": {
  "kernelspec": {
   "display_name": "Python 3 (ipykernel)",
   "language": "python",
   "name": "python3"
  },
  "language_info": {
   "codemirror_mode": {
    "name": "ipython",
    "version": 3
   },
   "file_extension": ".py",
   "mimetype": "text/x-python",
   "name": "python",
   "nbconvert_exporter": "python",
   "pygments_lexer": "ipython3",
   "version": "3.10.10"
  },
  "orig_nbformat": 4
 },
 "nbformat": 4,
 "nbformat_minor": 2
}
