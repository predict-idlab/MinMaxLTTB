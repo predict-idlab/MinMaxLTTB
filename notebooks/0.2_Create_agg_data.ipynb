{
 "cells": [
  {
   "cell_type": "code",
   "execution_count": 1,
   "metadata": {},
   "outputs": [],
   "source": [
    "%load_ext autoreload\n",
    "%autoreload 2"
   ]
  },
  {
   "attachments": {},
   "cell_type": "markdown",
   "metadata": {},
   "source": [
    "This notebook differs from the create agg data notebook as that we will add a new parameter to the grid-search; \n",
    "namely the `preselection factor`"
   ]
  },
  {
   "cell_type": "code",
   "execution_count": 2,
   "metadata": {},
   "outputs": [],
   "source": [
    "import itertools\n",
    "import sys\n",
    "from pathlib import Path\n",
    "\n",
    "import numpy as np\n",
    "import pandas as pd\n",
    "from plotly_resampler.aggregation import LTTB, MinMaxAggregator\n",
    "from tqdm.auto import tqdm\n",
    "\n",
    "sys.path.append(\"..\")\n",
    "from agg_utils.aggregators import MinMaxLTTB\n",
    "from agg_utils.path_conf import dataset_dir, loc_data_dir, figure_root_dir\n"
   ]
  },
  {
   "cell_type": "code",
   "execution_count": 3,
   "metadata": {},
   "outputs": [],
   "source": [
    "# fmt: off\n",
    "# Get the data that will be used for benchmarking\n",
    "btc_series = pd.read_parquet(dataset_dir / \"btc_high.parquet\").set_index('date')['high']\n",
    "ball_speed_series = pd.read_parquet(dataset_dir / \"ball_speed.parquet\").set_index(\"ts\")[\"v\"]\n",
    "power_series = pd.read_parquet( dataset_dir / \"electrical_power.parquet\").set_index(\"ts\")[\"mf03\"]\n",
    "cinecg = pd.read_parquet(dataset_dir / \"cinecg.parquet\")['ECG']\n",
    "hf_sine = pd.read_parquet(dataset_dir / \"hf_sine.parquet\")['sine']\n",
    "hf_noise = pd.read_parquet(dataset_dir / \"hf_noise.parquet\")['noise']\n",
    "\n",
    "data_tuple = [\n",
    "    # (\"sine\", hf_sine),\n",
    "    (\"noise\", hf_noise),\n",
    "    (\"cinecg\", cinecg),\n",
    "    (\"ball\", ball_speed_series.iloc[50_000:]),\n",
    "    (\"power\", power_series),\n",
    "    (\"btc\", btc_series),\n",
    "]\n"
   ]
  },
  {
   "cell_type": "markdown",
   "metadata": {},
   "source": [
    "# Serializing aggregations and corresponding references"
   ]
  },
  {
   "cell_type": "code",
   "execution_count": 4,
   "metadata": {},
   "outputs": [],
   "source": [
    "agg_data_dir = Path(figure_root_dir / \"preselect_data\")\n",
    "agg_data_dir.mkdir(exist_ok=True)\n"
   ]
  },
  {
   "cell_type": "code",
   "execution_count": 5,
   "metadata": {},
   "outputs": [
    {
     "data": {
      "application/vnd.jupyter.widget-view+json": {
       "model_id": "069e4904c5d34140929c3d2c412cc0bb",
       "version_major": 2,
       "version_minor": 0
      },
      "text/plain": [
       "  0%|          | 0/18 [00:00<?, ?it/s]"
      ]
     },
     "metadata": {},
     "output_type": "display_data"
    },
    {
     "data": {
      "application/vnd.jupyter.widget-view+json": {
       "model_id": "c26341ccf4ca4bfa8b51b5da64a4a037",
       "version_major": 2,
       "version_minor": 0
      },
      "text/plain": [
       "  0%|          | 0/382 [00:00<?, ?it/s]"
      ]
     },
     "metadata": {},
     "output_type": "display_data"
    },
    {
     "data": {
      "application/vnd.jupyter.widget-view+json": {
       "model_id": "bb94873199674737aa7b4d378cd62e44",
       "version_major": 2,
       "version_minor": 0
      },
      "text/plain": [
       "  0%|          | 0/2101 [00:00<?, ?it/s]"
      ]
     },
     "metadata": {},
     "output_type": "display_data"
    },
    {
     "data": {
      "application/vnd.jupyter.widget-view+json": {
       "model_id": "26266f05c8534452beb91e49a134720f",
       "version_major": 2,
       "version_minor": 0
      },
      "text/plain": [
       "  0%|          | 0/382 [00:00<?, ?it/s]"
      ]
     },
     "metadata": {},
     "output_type": "display_data"
    },
    {
     "data": {
      "application/vnd.jupyter.widget-view+json": {
       "model_id": "737d09bd0826436dbe3e44bc502dfd22",
       "version_major": 2,
       "version_minor": 0
      },
      "text/plain": [
       "  0%|          | 0/2101 [00:00<?, ?it/s]"
      ]
     },
     "metadata": {},
     "output_type": "display_data"
    },
    {
     "data": {
      "application/vnd.jupyter.widget-view+json": {
       "model_id": "59d243d22fe249f485ac8185738b5d66",
       "version_major": 2,
       "version_minor": 0
      },
      "text/plain": [
       "  0%|          | 0/382 [00:00<?, ?it/s]"
      ]
     },
     "metadata": {},
     "output_type": "display_data"
    },
    {
     "data": {
      "application/vnd.jupyter.widget-view+json": {
       "model_id": "ed4d34b67dc64d2eb57678ae14a59eac",
       "version_major": 2,
       "version_minor": 0
      },
      "text/plain": [
       "  0%|          | 0/2101 [00:00<?, ?it/s]"
      ]
     },
     "metadata": {},
     "output_type": "display_data"
    },
    {
     "data": {
      "application/vnd.jupyter.widget-view+json": {
       "model_id": "d427d5ce9532434282ecea75e085e9b7",
       "version_major": 2,
       "version_minor": 0
      },
      "text/plain": [
       "  0%|          | 0/382 [00:00<?, ?it/s]"
      ]
     },
     "metadata": {},
     "output_type": "display_data"
    },
    {
     "data": {
      "application/vnd.jupyter.widget-view+json": {
       "model_id": "5861c4c23aac4073b35efaedb7f9b1bb",
       "version_major": 2,
       "version_minor": 0
      },
      "text/plain": [
       "  0%|          | 0/2101 [00:00<?, ?it/s]"
      ]
     },
     "metadata": {},
     "output_type": "display_data"
    },
    {
     "data": {
      "application/vnd.jupyter.widget-view+json": {
       "model_id": "5f4c0ebb44824ca89e271be920779a72",
       "version_major": 2,
       "version_minor": 0
      },
      "text/plain": [
       "  0%|          | 0/382 [00:00<?, ?it/s]"
      ]
     },
     "metadata": {},
     "output_type": "display_data"
    },
    {
     "data": {
      "application/vnd.jupyter.widget-view+json": {
       "model_id": "d4ac6114a2af4455be32a19866b87123",
       "version_major": 2,
       "version_minor": 0
      },
      "text/plain": [
       "  0%|          | 0/2101 [00:00<?, ?it/s]"
      ]
     },
     "metadata": {},
     "output_type": "display_data"
    },
    {
     "data": {
      "application/vnd.jupyter.widget-view+json": {
       "model_id": "6c010909c7694fd09361fe7a1a171494",
       "version_major": 2,
       "version_minor": 0
      },
      "text/plain": [
       "  0%|          | 0/382 [00:00<?, ?it/s]"
      ]
     },
     "metadata": {},
     "output_type": "display_data"
    },
    {
     "data": {
      "application/vnd.jupyter.widget-view+json": {
       "model_id": "63ef9bd5410343a1a470b7091c64110d",
       "version_major": 2,
       "version_minor": 0
      },
      "text/plain": [
       "  0%|          | 0/2101 [00:00<?, ?it/s]"
      ]
     },
     "metadata": {},
     "output_type": "display_data"
    },
    {
     "data": {
      "application/vnd.jupyter.widget-view+json": {
       "model_id": "780cb86458ca4f08a95817722481461c",
       "version_major": 2,
       "version_minor": 0
      },
      "text/plain": [
       "  0%|          | 0/382 [00:00<?, ?it/s]"
      ]
     },
     "metadata": {},
     "output_type": "display_data"
    },
    {
     "data": {
      "application/vnd.jupyter.widget-view+json": {
       "model_id": "2cb14f58a838444bb470182a581a1265",
       "version_major": 2,
       "version_minor": 0
      },
      "text/plain": [
       "  0%|          | 0/2101 [00:00<?, ?it/s]"
      ]
     },
     "metadata": {},
     "output_type": "display_data"
    },
    {
     "data": {
      "application/vnd.jupyter.widget-view+json": {
       "model_id": "80accfffd8074e699ef01db56dddb83b",
       "version_major": 2,
       "version_minor": 0
      },
      "text/plain": [
       "  0%|          | 0/382 [00:00<?, ?it/s]"
      ]
     },
     "metadata": {},
     "output_type": "display_data"
    },
    {
     "data": {
      "application/vnd.jupyter.widget-view+json": {
       "model_id": "b0c71135e3364476a9fb2f77ee8a5be3",
       "version_major": 2,
       "version_minor": 0
      },
      "text/plain": [
       "  0%|          | 0/2101 [00:00<?, ?it/s]"
      ]
     },
     "metadata": {},
     "output_type": "display_data"
    },
    {
     "data": {
      "application/vnd.jupyter.widget-view+json": {
       "model_id": "81beb9b718414419ad4ab655db0a780e",
       "version_major": 2,
       "version_minor": 0
      },
      "text/plain": [
       "  0%|          | 0/382 [00:00<?, ?it/s]"
      ]
     },
     "metadata": {},
     "output_type": "display_data"
    },
    {
     "data": {
      "application/vnd.jupyter.widget-view+json": {
       "model_id": "3e6724096b8d4e0583f1a64a2a94e6c0",
       "version_major": 2,
       "version_minor": 0
      },
      "text/plain": [
       "  0%|          | 0/2101 [00:00<?, ?it/s]"
      ]
     },
     "metadata": {},
     "output_type": "display_data"
    },
    {
     "data": {
      "application/vnd.jupyter.widget-view+json": {
       "model_id": "40688e3ae4224d308c62d7462221c92b",
       "version_major": 2,
       "version_minor": 0
      },
      "text/plain": [
       "  0%|          | 0/382 [00:00<?, ?it/s]"
      ]
     },
     "metadata": {},
     "output_type": "display_data"
    },
    {
     "data": {
      "application/vnd.jupyter.widget-view+json": {
       "model_id": "2abdc47ca0cf400f8e684d02aeb1bd75",
       "version_major": 2,
       "version_minor": 0
      },
      "text/plain": [
       "  0%|          | 0/2101 [00:00<?, ?it/s]"
      ]
     },
     "metadata": {},
     "output_type": "display_data"
    },
    {
     "data": {
      "application/vnd.jupyter.widget-view+json": {
       "model_id": "d9de9a2231fb4736881b90f8e0c3d194",
       "version_major": 2,
       "version_minor": 0
      },
      "text/plain": [
       "  0%|          | 0/382 [00:00<?, ?it/s]"
      ]
     },
     "metadata": {},
     "output_type": "display_data"
    },
    {
     "data": {
      "application/vnd.jupyter.widget-view+json": {
       "model_id": "51cf676046464b208197291a2ae36232",
       "version_major": 2,
       "version_minor": 0
      },
      "text/plain": [
       "  0%|          | 0/2101 [00:00<?, ?it/s]"
      ]
     },
     "metadata": {},
     "output_type": "display_data"
    },
    {
     "data": {
      "application/vnd.jupyter.widget-view+json": {
       "model_id": "8d1c439d0fb74a0ba91ad31e3df419e3",
       "version_major": 2,
       "version_minor": 0
      },
      "text/plain": [
       "  0%|          | 0/382 [00:00<?, ?it/s]"
      ]
     },
     "metadata": {},
     "output_type": "display_data"
    },
    {
     "data": {
      "application/vnd.jupyter.widget-view+json": {
       "model_id": "58d7fa5f968e46d6aa43ae32c437c827",
       "version_major": 2,
       "version_minor": 0
      },
      "text/plain": [
       "  0%|          | 0/2101 [00:00<?, ?it/s]"
      ]
     },
     "metadata": {},
     "output_type": "display_data"
    },
    {
     "data": {
      "application/vnd.jupyter.widget-view+json": {
       "model_id": "c3f8ecf8092148749a860385882d1b57",
       "version_major": 2,
       "version_minor": 0
      },
      "text/plain": [
       "  0%|          | 0/382 [00:00<?, ?it/s]"
      ]
     },
     "metadata": {},
     "output_type": "display_data"
    },
    {
     "data": {
      "application/vnd.jupyter.widget-view+json": {
       "model_id": "973b053cc4ff4448b2ba66f0e14b2984",
       "version_major": 2,
       "version_minor": 0
      },
      "text/plain": [
       "  0%|          | 0/2101 [00:00<?, ?it/s]"
      ]
     },
     "metadata": {},
     "output_type": "display_data"
    },
    {
     "data": {
      "application/vnd.jupyter.widget-view+json": {
       "model_id": "7eb9affe551c4aa79d58676fc31b26b5",
       "version_major": 2,
       "version_minor": 0
      },
      "text/plain": [
       "  0%|          | 0/382 [00:00<?, ?it/s]"
      ]
     },
     "metadata": {},
     "output_type": "display_data"
    },
    {
     "data": {
      "application/vnd.jupyter.widget-view+json": {
       "model_id": "621ee6b00170411a92d86b8599398ef0",
       "version_major": 2,
       "version_minor": 0
      },
      "text/plain": [
       "  0%|          | 0/2101 [00:00<?, ?it/s]"
      ]
     },
     "metadata": {},
     "output_type": "display_data"
    },
    {
     "data": {
      "application/vnd.jupyter.widget-view+json": {
       "model_id": "d91d3ff693d141a3af7461de1691ad4c",
       "version_major": 2,
       "version_minor": 0
      },
      "text/plain": [
       "  0%|          | 0/382 [00:00<?, ?it/s]"
      ]
     },
     "metadata": {},
     "output_type": "display_data"
    },
    {
     "data": {
      "application/vnd.jupyter.widget-view+json": {
       "model_id": "e161613ca1684e7983a9df1415b89d1d",
       "version_major": 2,
       "version_minor": 0
      },
      "text/plain": [
       "  0%|          | 0/2101 [00:00<?, ?it/s]"
      ]
     },
     "metadata": {},
     "output_type": "display_data"
    },
    {
     "data": {
      "application/vnd.jupyter.widget-view+json": {
       "model_id": "890cee9ccad44a3bbbb0127640cf0e50",
       "version_major": 2,
       "version_minor": 0
      },
      "text/plain": [
       "  0%|          | 0/382 [00:00<?, ?it/s]"
      ]
     },
     "metadata": {},
     "output_type": "display_data"
    },
    {
     "data": {
      "application/vnd.jupyter.widget-view+json": {
       "model_id": "6f43de2797494976b0e1aa12053fc9a0",
       "version_major": 2,
       "version_minor": 0
      },
      "text/plain": [
       "  0%|          | 0/2101 [00:00<?, ?it/s]"
      ]
     },
     "metadata": {},
     "output_type": "display_data"
    },
    {
     "data": {
      "application/vnd.jupyter.widget-view+json": {
       "model_id": "30ea047bae33492b990f8549db034993",
       "version_major": 2,
       "version_minor": 0
      },
      "text/plain": [
       "  0%|          | 0/382 [00:00<?, ?it/s]"
      ]
     },
     "metadata": {},
     "output_type": "display_data"
    },
    {
     "data": {
      "application/vnd.jupyter.widget-view+json": {
       "model_id": "68e10fd5d5b84d1b8172b36068d1949b",
       "version_major": 2,
       "version_minor": 0
      },
      "text/plain": [
       "  0%|          | 0/2101 [00:00<?, ?it/s]"
      ]
     },
     "metadata": {},
     "output_type": "display_data"
    },
    {
     "data": {
      "application/vnd.jupyter.widget-view+json": {
       "model_id": "ad0edf42bf1d4d279addf7b598f3bc5d",
       "version_major": 2,
       "version_minor": 0
      },
      "text/plain": [
       "  0%|          | 0/382 [00:00<?, ?it/s]"
      ]
     },
     "metadata": {},
     "output_type": "display_data"
    },
    {
     "data": {
      "application/vnd.jupyter.widget-view+json": {
       "model_id": "9ba50b6db1c5470093749e31306cf163",
       "version_major": 2,
       "version_minor": 0
      },
      "text/plain": [
       "  0%|          | 0/2101 [00:00<?, ?it/s]"
      ]
     },
     "metadata": {},
     "output_type": "display_data"
    }
   ],
   "source": [
    "# fmt: off\n",
    "n_out_grid = np.arange(200, 4001, 20)\n",
    "n_grid = [50_000, 200_000, 1_000_000]\n",
    "factor_grid = list(np.arange(1, 12 , step=1))\n",
    "\n",
    "data_grid = [\n",
    "    (\"sine\", hf_sine),\n",
    "    (\"noise\", hf_noise),\n",
    "    (\"cinecg\", cinecg),\n",
    "    (\"ball\", ball_speed_series.iloc[50_000:]),\n",
    "    (\"power\", power_series),\n",
    "    (\"btc\", btc_series),\n",
    "]\n",
    "\n",
    "df_list = []\n",
    "for (s_name, data), n in tqdm(list(itertools.product(data_grid, n_grid))):\n",
    "    # Save the reference figure and the x_lim and y_lim\n",
    "    # The reference figure is the LTTB aggregated figure\n",
    "    reference = data.iloc[:n]\n",
    "    save_name = agg_data_dir / f\"{s_name}_reference_{n}.parquet\"\n",
    "    reference.reset_index(drop=False).to_parquet(save_name, engine=\"fastparquet\")\n",
    "    df_list.append([s_name, \"reference\", n, None, save_name, None])\n",
    "\n",
    "    # fmt: off\n",
    "    for n_out, aggregator_class in tqdm(list(itertools.product(n_out_grid, [LTTB, MinMaxAggregator]))):\n",
    "        s_agg = aggregator_class()._aggregate(reference, n_out)\n",
    "        save_name = save_name.parent / f\"{s_name}_{aggregator_class.__name__}_{n}_{int(n_out)}.parquet\"\n",
    "        s_agg.reset_index(drop=False).to_parquet(save_name, engine=\"fastparquet\")\n",
    "        df_list.append([s_name, aggregator_class.__name__, n, n_out, save_name, None])\n",
    "\n",
    "    # TODO? also min_max with a factor?\n",
    "\n",
    "    for n_out, factor in tqdm(list(itertools.product(n_out_grid, factor_grid))):\n",
    "        s_agg = MinMaxLTTB()._aggregate(reference, n_out=n_out, minmax_ratio=factor)\n",
    "        save_name = save_name.parent / f\"{s_name}_{MinMaxLTTB.__name__}_{n}_{int(n_out)}_{factor}.parquet\"\n",
    "        s_agg.reset_index(drop=False).to_parquet(save_name, engine=\"fastparquet\")\n",
    "        df_list.append([s_name, MinMaxLTTB.__name__, n, n_out, save_name, factor])\n",
    "        # also wave the MinMax-output with a factor\n",
    "        s_agg = MinMaxAggregator()._aggregate(reference, n_out=n_out * factor)\n",
    "        save_name = save_name.parent / f\"{s_name}_{MinMaxAggregator.__name__}_{n}_{int(n_out)}_{factor}.parquet\"\n",
    "        s_agg.reset_index(drop=False).to_parquet(save_name, engine=\"fastparquet\")\n",
    "        df_list.append([s_name, MinMaxAggregator.__name__, n, n_out, save_name, factor])\n",
    "\n",
    "pd.DataFrame(\n",
    "    df_list,\n",
    "    columns=[\"data\", \"aggregator\", \"n\", \"n_out\", \"path\", \"factor\"],\n",
    ").to_csv(loc_data_dir / \"agg_data_preselect.csv\", index=False)\n"
   ]
  }
 ],
 "metadata": {
  "kernelspec": {
   "display_name": "Python 3 (ipykernel)",
   "language": "python",
   "name": "python3"
  },
  "language_info": {
   "codemirror_mode": {
    "name": "ipython",
    "version": 3
   },
   "file_extension": ".py",
   "mimetype": "text/x-python",
   "name": "python",
   "nbconvert_exporter": "python",
   "pygments_lexer": "ipython3",
   "version": "3.10.10"
  },
  "orig_nbformat": 4
 },
 "nbformat": 4,
 "nbformat_minor": 2
}
