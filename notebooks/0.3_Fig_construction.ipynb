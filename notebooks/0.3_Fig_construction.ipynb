{
 "cells": [
  {
   "attachments": {},
   "cell_type": "markdown",
   "metadata": {},
   "source": [
    "Aim of this notebook:\n",
    "\n",
    "construct the plotly and matplotlib figures which will be used for the various \n",
    "benchmarking configurations. "
   ]
  },
  {
   "cell_type": "code",
   "execution_count": 1,
   "metadata": {},
   "outputs": [],
   "source": [
    "%load_ext autoreload\n",
    "%autoreload 2"
   ]
  },
  {
   "cell_type": "code",
   "execution_count": 2,
   "metadata": {},
   "outputs": [],
   "source": [
    "import itertools\n",
    "import os\n",
    "import sys\n",
    "import traceback\n",
    "from multiprocessing import Pool\n",
    "\n",
    "import numpy as np\n",
    "import pandas as pd\n",
    "from tqdm.auto import tqdm\n",
    "\n",
    "sys.path.append(\"..\")\n",
    "from agg_utils.fig_construction import construct_plotly_fig\n",
    "from agg_utils.path_conf import figure_root_dir, loc_data_dir"
   ]
  },
  {
   "cell_type": "code",
   "execution_count": 3,
   "metadata": {},
   "outputs": [],
   "source": [
    "df_agg_data = pd.read_csv(loc_data_dir / \"agg_data_preselect.csv\")\n",
    "reference_mask = df_agg_data.aggregator == \"reference\"\n",
    "agg_mask = df_agg_data.aggregator.isin([\"LTTB\", \"MinMaxLTTB\"]) | (\n",
    "    (df_agg_data[\"aggregator\"] == \"MinMaxAggregator\") & (df_agg_data.factor.isna())\n",
    ")\n",
    "\n",
    "\n",
    "def read_set_index_first_col(pqt_path) -> pd.Series:\n",
    "    df = pd.read_parquet(pqt_path)\n",
    "    df = df.set_index(df.columns[0], drop=True)\n",
    "    assert len(df.columns) == 1\n",
    "    return df.iloc[:, 0]\n",
    "\n"
   ]
  },
  {
   "cell_type": "code",
   "execution_count": 4,
   "metadata": {},
   "outputs": [
    {
     "data": {
      "application/vnd.jupyter.widget-view+json": {
       "model_id": "299884cafa5448fba3300cd01966f185",
       "version_major": 2,
       "version_minor": 0
      },
      "text/plain": [
       "  0%|          | 0/18 [00:00<?, ?it/s]"
      ]
     },
     "metadata": {},
     "output_type": "display_data"
    },
    {
     "data": {
      "application/vnd.jupyter.widget-view+json": {
       "model_id": "e8a46c2bcb974537999dcb972c430914",
       "version_major": 2,
       "version_minor": 0
      },
      "text/plain": [
       "  0%|          | 0/44694 [00:00<?, ?it/s]"
      ]
     },
     "metadata": {},
     "output_type": "display_data"
    }
   ],
   "source": [
    "ref_data_dict = {\n",
    "    f\"{r.data}_{r.aggregator}_{r.n}\": read_set_index_first_col(r.path)\n",
    "    for _, r in tqdm(df_agg_data[reference_mask].iterrows(), total=sum(reference_mask))\n",
    "}\n",
    "\n",
    "agg_data_dict = {\n",
    "    # fmt: off\n",
    "    f\"{r.data}_{r.aggregator}_{r.n}_{int(r.n_out)}{('_' + str(int(r.factor)) if not np.isnan(r.factor) else '')}\": read_set_index_first_col(r.path)\n",
    "    for _, r in tqdm(df_agg_data[agg_mask].iterrows(), total=sum(agg_mask))\n",
    "}\n"
   ]
  },
  {
   "attachments": {},
   "cell_type": "markdown",
   "metadata": {},
   "source": [
    "## Construct plotly-figs"
   ]
  },
  {
   "cell_type": "code",
   "execution_count": 5,
   "metadata": {},
   "outputs": [],
   "source": [
    "plotly_save_dir = figure_root_dir / \"plotly_preselect\"\n",
    "if not plotly_save_dir.exists():\n",
    "    os.makedirs(plotly_save_dir)\n",
    "plotly_vis_grid = [2], ['linear']"
   ]
  },
  {
   "cell_type": "code",
   "execution_count": 6,
   "metadata": {},
   "outputs": [
    {
     "data": {
      "application/vnd.jupyter.widget-view+json": {
       "model_id": "2b773fba3a714fcc86e4009e6d835e97",
       "version_major": 2,
       "version_minor": 0
      },
      "text/plain": [
       "  0%|          | 0/1 [00:00<?, ?it/s]"
      ]
     },
     "metadata": {},
     "output_type": "display_data"
    },
    {
     "data": {
      "application/vnd.jupyter.widget-view+json": {
       "model_id": "bbfcb6c80f51469794284d9380759f24",
       "version_major": 2,
       "version_minor": 0
      },
      "text/plain": [
       "  0%|          | 0/18 [00:00<?, ?it/s]"
      ]
     },
     "metadata": {},
     "output_type": "display_data"
    },
    {
     "name": "stderr",
     "output_type": "stream",
     "text": [
      "/home/jonas/.cache/pypoetry/virtualenvs/minmaxlttb-dXi6k51w-py3.10/lib/python3.10/site-packages/plotly/io/_json.py:534: UserWarning:\n",
      "\n",
      "Discarding nonzero nanoseconds in conversion.\n",
      "\n"
     ]
    }
   ],
   "source": [
    "for line_width, drawstyle in tqdm(list(itertools.product(*plotly_vis_grid))):\n",
    "    for k, data in tqdm(list(ref_data_dict.items())):\n",
    "        s_name, _, n = k.split(\"_\")\n",
    "        xlim = (data.index[0], data.index[-1])\n",
    "        ylim = (data.min(), data.max())\n",
    "        save_name = (\n",
    "            str(plotly_save_dir)\n",
    "            + f\"/reference_{s_name}_{n}_ls={drawstyle}_lw={line_width}\"\n",
    "        )\n",
    "        construct_plotly_fig(\n",
    "            data.index,\n",
    "            data.values,\n",
    "            save_path=save_name + \".png\",\n",
    "            xlim=xlim,\n",
    "            ylim=ylim,\n",
    "            line_width=line_width,\n",
    "            line_shape=drawstyle,\n",
    "        )"
   ]
  },
  {
   "cell_type": "code",
   "execution_count": 7,
   "metadata": {},
   "outputs": [
    {
     "data": {
      "application/vnd.jupyter.widget-view+json": {
       "model_id": "588fe1567f294c04aa3c804ff73afe70",
       "version_major": 2,
       "version_minor": 0
      },
      "text/plain": [
       "  0%|          | 0/44694 [00:00<?, ?it/s]"
      ]
     },
     "metadata": {},
     "output_type": "display_data"
    }
   ],
   "source": [
    "def wrap_create_plotly_figs(k: str):\n",
    "    s_name, aggregator, n, n_out = k.split(\"_\")[:4]\n",
    "    factor = ''\n",
    "    if len(k.split('_')) == 5:\n",
    "        factor = f\"_factor={k.split('_')[4]}\"\n",
    "    agg_data = agg_data_dict[k]\n",
    "    ref_data = ref_data_dict[f\"{s_name}_reference_{n}\"]\n",
    "    xlim = (ref_data.index[0], ref_data.index[-1])\n",
    "    ylim = (ref_data.min(), ref_data.max())\n",
    "\n",
    "    for line_width, drawstyle in itertools.product(*plotly_vis_grid):\n",
    "        save_name =  str(plotly_save_dir) + f\"/{aggregator}_{s_name}_{n}_{int(n_out)}{factor}_ls={drawstyle}_lw={line_width}\"\n",
    "        construct_plotly_fig(\n",
    "            agg_data.index,\n",
    "            agg_data.values.ravel(),\n",
    "            save_path=save_name + \".png\",\n",
    "            xlim=xlim,\n",
    "            ylim=ylim,\n",
    "            line_width=line_width,\n",
    "            line_shape=drawstyle,\n",
    "        )\n",
    "\n",
    "\n",
    "t_list = list(agg_data_dict.keys())\n",
    "with Pool(processes=8) as pool:\n",
    "    results = pool.imap_unordered(wrap_create_plotly_figs, t_list)\n",
    "    results = tqdm(results, total=len(t_list))\n",
    "    try:\n",
    "        [f for f in results]\n",
    "        del results\n",
    "    except:\n",
    "        traceback.print_exc()\n",
    "        pool.terminate()\n",
    "    finally:\n",
    "        pool.close()\n",
    "        pool.join()\n",
    "\n"
   ]
  }
 ],
 "metadata": {
  "kernelspec": {
   "display_name": "Python 3 (ipykernel)",
   "language": "python",
   "name": "python3"
  },
  "language_info": {
   "codemirror_mode": {
    "name": "ipython",
    "version": 3
   },
   "file_extension": ".py",
   "mimetype": "text/x-python",
   "name": "python",
   "nbconvert_exporter": "python",
   "pygments_lexer": "ipython3",
   "version": "3.10.10"
  },
  "orig_nbformat": 4
 },
 "nbformat": 4,
 "nbformat_minor": 2
}
